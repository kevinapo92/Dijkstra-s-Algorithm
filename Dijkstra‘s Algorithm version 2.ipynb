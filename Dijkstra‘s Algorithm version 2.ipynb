{
 "cells": [
  {
   "cell_type": "code",
   "execution_count": 3,
   "id": "9807e2a3",
   "metadata": {},
   "outputs": [],
   "source": [
    "import pandas as pd\n",
    "import heapq as hq"
   ]
  },
  {
   "cell_type": "code",
   "execution_count": null,
   "id": "e8d50050",
   "metadata": {},
   "outputs": [],
   "source": [
    "def dijkstra(graph, source, sink):\n",
    "    edges = {} #dict for the edges\n",
    "    for i in range(len(graph)):\n",
    "        edges[i] = []  #create an index in the dict, the key is the nodes\n",
    "        for j in range(len(graph)):\n",
    "            if graph[i][j] > 0: #if exists an connection between two nodes\n",
    "                edges[i].append((graph[i][j], j)) #add the the distance and the node of connection\n",
    "                #so at the end the edges dict will have all the connections and distances\n",
    "    \n",
    "    q = [(0, source, [])]\n",
    "    visited = set()\n",
    "    shortest = {source: 0}\n",
    "    \n",
    "    #The property of this data structure in Python is that each time the smallest of heap element is popped(min heap).\n",
    "    \n",
    "    while True:\n",
    "        (path_dist, v1, path) = hq.heappop(q) #function removes and returns the smallest element from the heap.\n",
    "        if v1 not in visited:\n",
    "            visited.add(v1) #add the node to the node list\n",
    "            path = path + [v1] # add the node to the path list\n",
    "            if v1 == sink:\n",
    "                return (path_dist, path)\n",
    "            for (dist, v2) in edges[v1]\n",
    "                "
   ]
  },
  {
   "cell_type": "code",
   "execution_count": 4,
   "id": "61bce320",
   "metadata": {},
   "outputs": [],
   "source": [
    "q = [(0, 5, [2,3])]\n",
    "(path_dist, v1, path) = hq.heappop(q)"
   ]
  },
  {
   "cell_type": "code",
   "execution_count": 5,
   "id": "6aff6e4a",
   "metadata": {},
   "outputs": [
    {
     "data": {
      "text/plain": [
       "(0, 5, [2, 3])"
      ]
     },
     "execution_count": 5,
     "metadata": {},
     "output_type": "execute_result"
    }
   ],
   "source": [
    "(path_dist, v1, path)"
   ]
  },
  {
   "cell_type": "code",
   "execution_count": null,
   "id": "3cd17c7b",
   "metadata": {},
   "outputs": [],
   "source": []
  }
 ],
 "metadata": {
  "kernelspec": {
   "display_name": "py38_1_1_1",
   "language": "python",
   "name": "py38_1_1_1"
  },
  "language_info": {
   "codemirror_mode": {
    "name": "ipython",
    "version": 3
   },
   "file_extension": ".py",
   "mimetype": "text/x-python",
   "name": "python",
   "nbconvert_exporter": "python",
   "pygments_lexer": "ipython3",
   "version": "3.8.13"
  }
 },
 "nbformat": 4,
 "nbformat_minor": 5
}
