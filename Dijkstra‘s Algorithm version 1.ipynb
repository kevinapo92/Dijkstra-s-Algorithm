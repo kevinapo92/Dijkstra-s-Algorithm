{
 "cells": [
  {
   "cell_type": "code",
   "execution_count": 1,
   "id": "6f71bb63",
   "metadata": {},
   "outputs": [],
   "source": [
    "import pandas as pd"
   ]
  },
  {
   "cell_type": "code",
   "execution_count": 2,
   "id": "6efde467",
   "metadata": {},
   "outputs": [],
   "source": [
    "class sp_graph():\n",
    "    def __init__(self, graph, source, sink):\n",
    "        self.V = len(graph)\n",
    "        self.graph = graph\n",
    "        self.source = source\n",
    "        self.sink = sink\n",
    "        self.sp = {i:[self.source] for i in range(self.V)} # a dictionary with all the nodes with the source node\n",
    "        \n",
    "        # A utility function to find the vertex with minimum distance value, from the set of vertices\n",
    "        # not yet included in shortest path tree   \n",
    "    def min_distance(self, dist, sp_list):\n",
    "        min = 9999999 #represent the infinite # Initialize minimum distance for next node\n",
    "        min_index = self.source #initiate with the node source as min_index\n",
    "        # Search not nearest vertex not in the\n",
    "        # shortest path tree\n",
    "        \n",
    "        for v in range(self.V):\n",
    "            if dist[v] < min and sp_list[v] ==  False: # if sp_list is the visited node list, this means if the node is not in the list\n",
    "                min = dist[v] # determinate the min dist \n",
    "                min_index = v #node with the min distance \n",
    "                \n",
    "        return min_index \n",
    "    \n",
    "    def print_solution(self, dist):\n",
    "        print(f\"Vertex and SP distance (from Source {self.source} to Sink {self.sink})\")\n",
    "        print(f\"distance={dist[self.sink]} with path {self.sp[self.sink]}\")\n",
    "    \n",
    "    \n",
    "   \n",
    "    # Function that implements Dijkstra's single source\n",
    "    # shortest path algorithm for a graph represented\n",
    "    # using adjacency matrix representation      \n",
    "    \n",
    "    def dijsktra(self):\n",
    "        dist=[9999999] * self.V  # filling the distances of each at the beginning of the algorithm\n",
    "        dist[self.source] = 0    # define the distances of the source \n",
    "        sp_list = [False] * self.V # repeat the false value for each node  \n",
    "        \n",
    "        for count in range(self.V):\n",
    "            # Pick the minimum distance vertex from the set of vertices not yet processed.\n",
    "            # u is always equal to src in first iteration\n",
    "            v1 = self.min_distance(dist, sp_list)\n",
    "            # Put the minimum distance vertex in the shortest path tree\n",
    "            sp_list[v1] = True\n",
    "            # Update dist value of the adjacent vertices of the picked vertex only if the current\n",
    "            # distance is greater than new distance and the vertex in not in the shortest path tree           \n",
    "            for v2 in range(self.V):\n",
    "                if sp_list[v2] is False and self.graph[v1][v2] > 0 and dist[v2] > dist[v1] + self.graph[v1][v2]:\n",
    "                    dist[v2] = dist[v1] + self.graph[v1][v2]\n",
    "                    self.sp[v2]= self.sp[v1] + [v2]    \n",
    "    \n",
    "        self.print_solution(dist)\n",
    "        "
   ]
  },
  {
   "cell_type": "code",
   "execution_count": 3,
   "id": "40f74310",
   "metadata": {},
   "outputs": [],
   "source": [
    "data_graph = pd.read_excel(\"dijkstra_input.xlsx\", index_col=0)\n",
    "data_graph\n",
    "graph_input = data_graph.values.tolist()"
   ]
  },
  {
   "cell_type": "code",
   "execution_count": 4,
   "id": "13ee6828",
   "metadata": {},
   "outputs": [
    {
     "name": "stdout",
     "output_type": "stream",
     "text": [
      "Vertex and SP distance (from Source 0 to Sink 8)\n",
      "distance=11 with path [0, 6, 7, 8]\n"
     ]
    }
   ],
   "source": [
    "instance = sp_graph(graph=graph_input, source=0, sink=8)\n",
    "instance.dijsktra()"
   ]
  }
 ],
 "metadata": {
  "kernelspec": {
   "display_name": "py38_1_1_1",
   "language": "python",
   "name": "py38_1_1_1"
  },
  "language_info": {
   "codemirror_mode": {
    "name": "ipython",
    "version": 3
   },
   "file_extension": ".py",
   "mimetype": "text/x-python",
   "name": "python",
   "nbconvert_exporter": "python",
   "pygments_lexer": "ipython3",
   "version": "3.8.13"
  }
 },
 "nbformat": 4,
 "nbformat_minor": 5
}
